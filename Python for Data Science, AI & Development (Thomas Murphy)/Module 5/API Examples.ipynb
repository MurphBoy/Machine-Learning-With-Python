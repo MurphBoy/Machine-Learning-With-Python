{
 "cells": [
  {
   "cell_type": "code",
   "execution_count": 1,
   "metadata": {},
   "outputs": [
    {
     "name": "stdout",
     "output_type": "stream",
     "text": [
      "Defaulting to user installation because normal site-packages is not writeable\n",
      "Requirement already satisfied: randomuser in /Users/Murphboy/Library/Python/3.9/lib/python/site-packages (1.6)\n",
      "\u001b[33mWARNING: You are using pip version 21.2.4; however, version 24.0 is available.\n",
      "You should consider upgrading via the '/Library/Developer/CommandLineTools/usr/bin/python3 -m pip install --upgrade pip' command.\u001b[0m\n",
      "Note: you may need to restart the kernel to use updated packages.\n"
     ]
    }
   ],
   "source": [
    "%pip install randomuser"
   ]
  },
  {
   "cell_type": "code",
   "execution_count": 2,
   "metadata": {},
   "outputs": [],
   "source": [
    "from randomuser import RandomUser\n",
    "import pandas as pd"
   ]
  },
  {
   "cell_type": "code",
   "execution_count": 3,
   "metadata": {},
   "outputs": [],
   "source": [
    "r = RandomUser()"
   ]
  },
  {
   "cell_type": "code",
   "execution_count": 4,
   "metadata": {},
   "outputs": [
    {
     "data": {
      "text/plain": [
       "[<randomuser.RandomUser at 0x10a1a1bb0>,\n",
       " <randomuser.RandomUser at 0x1133b8c40>,\n",
       " <randomuser.RandomUser at 0x10a23fdc0>,\n",
       " <randomuser.RandomUser at 0x10a23f910>,\n",
       " <randomuser.RandomUser at 0x10a23fca0>,\n",
       " <randomuser.RandomUser at 0x10a23f0d0>,\n",
       " <randomuser.RandomUser at 0x10a23f520>,\n",
       " <randomuser.RandomUser at 0x10a23f8b0>,\n",
       " <randomuser.RandomUser at 0x10a23f070>,\n",
       " <randomuser.RandomUser at 0x10a23f130>]"
      ]
     },
     "execution_count": 4,
     "metadata": {},
     "output_type": "execute_result"
    }
   ],
   "source": [
    "some_list = r.generate_users(10)\n",
    "some_list"
   ]
  },
  {
   "cell_type": "code",
   "execution_count": 5,
   "metadata": {},
   "outputs": [],
   "source": [
    "name = r.get_full_name()"
   ]
  },
  {
   "cell_type": "code",
   "execution_count": 6,
   "metadata": {},
   "outputs": [
    {
     "name": "stdout",
     "output_type": "stream",
     "text": [
      "Rasmus Kivi  rasmus.kivi@example.com\n",
      "Loni Tietz  loni.tietz@example.com\n",
      "Aleksandra Dupuis  aleksandra.dupuis@example.com\n",
      "Ramona Wade  ramona.wade@example.com\n",
      "Nicholas Murray  nicholas.murray@example.com\n",
      "Danielle Jenkins  danielle.jenkins@example.com\n",
      "Toufik Lambeck  toufik.lambeck@example.com\n",
      "Alberto Diez  alberto.diez@example.com\n",
      "Virgil Hansen  virgil.hansen@example.com\n",
      "Jennifer Murphy  jennifer.murphy@example.com\n"
     ]
    }
   ],
   "source": [
    "for user in some_list:\n",
    "    print(user.get_full_name(),\"\",user.get_email())"
   ]
  },
  {
   "cell_type": "code",
   "execution_count": 7,
   "metadata": {},
   "outputs": [
    {
     "name": "stdout",
     "output_type": "stream",
     "text": [
      "https://randomuser.me/api/portraits/men/17.jpg\n",
      "https://randomuser.me/api/portraits/women/25.jpg\n",
      "https://randomuser.me/api/portraits/women/11.jpg\n",
      "https://randomuser.me/api/portraits/women/55.jpg\n",
      "https://randomuser.me/api/portraits/men/20.jpg\n",
      "https://randomuser.me/api/portraits/women/52.jpg\n",
      "https://randomuser.me/api/portraits/men/36.jpg\n",
      "https://randomuser.me/api/portraits/men/8.jpg\n",
      "https://randomuser.me/api/portraits/men/65.jpg\n",
      "https://randomuser.me/api/portraits/women/4.jpg\n"
     ]
    }
   ],
   "source": [
    "for user in some_list:\n",
    "    print(user.get_picture())"
   ]
  },
  {
   "cell_type": "code",
   "execution_count": 8,
   "metadata": {},
   "outputs": [],
   "source": [
    "def get_users():\n",
    "    users =[]\n",
    "     \n",
    "    for user in RandomUser.generate_users(10):\n",
    "        users.append({\"Name\":user.get_full_name(),\"Gender\":user.get_gender(),\"City\":user.get_city(),\"State\":user.get_state(),\"Email\":user.get_email(), \"DOB\":user.get_dob(),\"Picture\":user.get_picture()})\n",
    "      \n",
    "    return pd.DataFrame(users)     "
   ]
  },
  {
   "cell_type": "code",
   "execution_count": 9,
   "metadata": {},
   "outputs": [],
   "source": [
    "get_users()\n",
    "df1 = pd.DataFrame(get_users())"
   ]
  }
 ],
 "metadata": {
  "kernelspec": {
   "display_name": "Python 3",
   "language": "python",
   "name": "python3"
  },
  "language_info": {
   "codemirror_mode": {
    "name": "ipython",
    "version": 3
   },
   "file_extension": ".py",
   "mimetype": "text/x-python",
   "name": "python",
   "nbconvert_exporter": "python",
   "pygments_lexer": "ipython3",
   "version": "3.9.6"
  }
 },
 "nbformat": 4,
 "nbformat_minor": 2
}
