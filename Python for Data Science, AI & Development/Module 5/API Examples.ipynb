{
 "cells": [
  {
   "cell_type": "code",
   "execution_count": 1,
   "metadata": {},
   "outputs": [
    {
     "name": "stdout",
     "output_type": "stream",
     "text": [
      "Defaulting to user installation because normal site-packages is not writeable\n",
      "Collecting randomuser\n",
      "  Downloading randomuser-1.6.tar.gz (5.0 kB)\n",
      "Building wheels for collected packages: randomuser\n",
      "  Building wheel for randomuser (setup.py) ... \u001b[?25ldone\n",
      "\u001b[?25h  Created wheel for randomuser: filename=randomuser-1.6-py3-none-any.whl size=5083 sha256=60d227049184a29269f14604ab0c97e73c091cfafd89d39bedca458d39d9d12a\n",
      "  Stored in directory: /Users/Murphboy/Library/Caches/pip/wheels/41/6f/23/878c103a235dc2d4e85a3965c124aae8a28470c541b81aa2ba\n",
      "Successfully built randomuser\n",
      "Installing collected packages: randomuser\n",
      "Successfully installed randomuser-1.6\n",
      "\u001b[33mWARNING: You are using pip version 21.2.4; however, version 24.0 is available.\n",
      "You should consider upgrading via the '/Library/Developer/CommandLineTools/usr/bin/python3 -m pip install --upgrade pip' command.\u001b[0m\n",
      "Note: you may need to restart the kernel to use updated packages.\n"
     ]
    }
   ],
   "source": [
    "%pip install randomuser"
   ]
  },
  {
   "cell_type": "code",
   "execution_count": 2,
   "metadata": {},
   "outputs": [],
   "source": [
    "from randomuser import RandomUser\n",
    "import pandas as pd"
   ]
  },
  {
   "cell_type": "code",
   "execution_count": 3,
   "metadata": {},
   "outputs": [],
   "source": [
    "r = RandomUser()"
   ]
  },
  {
   "cell_type": "code",
   "execution_count": 4,
   "metadata": {},
   "outputs": [
    {
     "data": {
      "text/plain": [
       "[<randomuser.RandomUser at 0x124ee6eb0>,\n",
       " <randomuser.RandomUser at 0x124ee6f70>,\n",
       " <randomuser.RandomUser at 0x124f3e730>,\n",
       " <randomuser.RandomUser at 0x124f3e040>,\n",
       " <randomuser.RandomUser at 0x124f3e700>,\n",
       " <randomuser.RandomUser at 0x124f3ea00>,\n",
       " <randomuser.RandomUser at 0x124f3e7f0>,\n",
       " <randomuser.RandomUser at 0x124f3e2b0>,\n",
       " <randomuser.RandomUser at 0x124f3e280>,\n",
       " <randomuser.RandomUser at 0x124f3e340>]"
      ]
     },
     "execution_count": 4,
     "metadata": {},
     "output_type": "execute_result"
    }
   ],
   "source": [
    "some_list = r.generate_users(10)\n",
    "some_list"
   ]
  },
  {
   "cell_type": "code",
   "execution_count": 5,
   "metadata": {},
   "outputs": [],
   "source": [
    "name = r.get_full_name()"
   ]
  },
  {
   "cell_type": "code",
   "execution_count": 6,
   "metadata": {},
   "outputs": [
    {
     "name": "stdout",
     "output_type": "stream",
     "text": [
      "Alexis Wood  alexis.wood@example.com\n",
      "Francis Washington  francis.washington@example.com\n",
      "محمدعلی نجاتی  mhmdaaly.njty@example.com\n",
      "Stephanie Jacobs  stephanie.jacobs@example.com\n",
      "R Möhlmann  r.mohlmann@example.com\n",
      "مرسانا كامياران  mrsn.kmyrn@example.com\n",
      "Lucas Rhodes  lucas.rhodes@example.com\n",
      "Bobby Hill  bobby.hill@example.com\n",
      "Luzie Thiemann  luzie.thiemann@example.com\n",
      "Isa Gruber  isa.gruber@example.com\n"
     ]
    }
   ],
   "source": [
    "for user in some_list:\n",
    "    print(user.get_full_name(),\"\",user.get_email())"
   ]
  },
  {
   "cell_type": "code",
   "execution_count": 8,
   "metadata": {},
   "outputs": [
    {
     "name": "stdout",
     "output_type": "stream",
     "text": [
      "https://randomuser.me/api/portraits/women/26.jpg\n",
      "https://randomuser.me/api/portraits/men/21.jpg\n",
      "https://randomuser.me/api/portraits/men/21.jpg\n",
      "https://randomuser.me/api/portraits/women/16.jpg\n",
      "https://randomuser.me/api/portraits/men/57.jpg\n",
      "https://randomuser.me/api/portraits/women/63.jpg\n",
      "https://randomuser.me/api/portraits/men/14.jpg\n",
      "https://randomuser.me/api/portraits/men/35.jpg\n",
      "https://randomuser.me/api/portraits/women/7.jpg\n",
      "https://randomuser.me/api/portraits/women/72.jpg\n"
     ]
    }
   ],
   "source": [
    "for user in some_list:\n",
    "    print(user.get_picture())"
   ]
  },
  {
   "cell_type": "code",
   "execution_count": 9,
   "metadata": {},
   "outputs": [],
   "source": [
    "def get_users():\n",
    "    users =[]\n",
    "     \n",
    "    for user in RandomUser.generate_users(10):\n",
    "        users.append({\"Name\":user.get_full_name(),\"Gender\":user.get_gender(),\"City\":user.get_city(),\"State\":user.get_state(),\"Email\":user.get_email(), \"DOB\":user.get_dob(),\"Picture\":user.get_picture()})\n",
    "      \n",
    "    return pd.DataFrame(users)     "
   ]
  },
  {
   "cell_type": "code",
   "execution_count": 10,
   "metadata": {},
   "outputs": [],
   "source": [
    "get_users()\n",
    "df1 = pd.DataFrame(get_users())"
   ]
  }
 ],
 "metadata": {
  "kernelspec": {
   "display_name": "Python 3",
   "language": "python",
   "name": "python3"
  },
  "language_info": {
   "codemirror_mode": {
    "name": "ipython",
    "version": 3
   },
   "file_extension": ".py",
   "mimetype": "text/x-python",
   "name": "python",
   "nbconvert_exporter": "python",
   "pygments_lexer": "ipython3",
   "version": "3.9.6"
  }
 },
 "nbformat": 4,
 "nbformat_minor": 2
}
